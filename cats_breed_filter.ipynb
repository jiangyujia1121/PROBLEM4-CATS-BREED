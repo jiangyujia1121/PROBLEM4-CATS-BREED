{
 "cells": [
  {
   "cell_type": "code",
   "execution_count": null,
   "metadata": {},
   "outputs": [],
   "source": [
    "import http.client\n",
    "\n",
    "conn = http.client.HTTPSConnection(\"api.thecatapi.com\")\n",
    "\n",
    "headers = { 'x-api-key': \"live_nVmaP6BWgoHUqD5c1yK2bJLBX4hu2Dtrid9hT8MuomhPQsLT2kz7uopdf8MKPY16\" }\n",
    "\n",
    "conn.request(\"GET\", \"/v1/breeds\", headers=headers)\n",
    "\n",
    "res = conn.getresponse()\n",
    "data = res.read()\n",
    "\n",
    "print(data.decode(\"utf-8\"))\n",
    "\n"
   ]
  },
  {
   "cell_type": "code",
   "execution_count": null,
   "metadata": {},
   "outputs": [],
   "source": [
    "import json \n",
    "data_json = json.loads(data.decode(\"utf-8\"))\n",
    "data_json"
   ]
  },
  {
   "cell_type": "code",
   "execution_count": null,
   "metadata": {},
   "outputs": [],
   "source": [
    "import numpy as np\n",
    "cats = []\n",
    "grade = 5\n",
    "filter_rule = ['adaptability','stranger_friendly','social_needs','dog_friendly']\n",
    "\n",
    "for i in range(len(data_json)):\n",
    "    cats = [{'id':data_json[i]['id'],\"name\":data_json[i]['name'],'description':data_json[i]['description']} for fea in filter_rule if data_json[i][fea]== grade ]\n",
    "\n",
    "\n",
    "cats\n"
   ]
  }
 ],
 "metadata": {
  "kernelspec": {
   "display_name": "Python 3.10.4 64-bit",
   "language": "python",
   "name": "python3"
  },
  "language_info": {
   "codemirror_mode": {
    "name": "ipython",
    "version": 3
   },
   "file_extension": ".py",
   "mimetype": "text/x-python",
   "name": "python",
   "nbconvert_exporter": "python",
   "pygments_lexer": "ipython3",
   "version": "3.10.4"
  },
  "orig_nbformat": 4,
  "vscode": {
   "interpreter": {
    "hash": "aee8b7b246df8f9039afb4144a1f6fd8d2ca17a180786b69acc140d282b71a49"
   }
  }
 },
 "nbformat": 4,
 "nbformat_minor": 2
}
